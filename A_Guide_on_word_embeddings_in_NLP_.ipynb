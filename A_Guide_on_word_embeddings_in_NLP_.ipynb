{
  "cells": [
    {
      "cell_type": "markdown",
      "metadata": {
        "id": "view-in-github",
        "colab_type": "text"
      },
      "source": [
        "<a href=\"https://colab.research.google.com/github/YashK07/Turing-Blogs/blob/master/A_Guide_on_word_embeddings_in_NLP_.ipynb\" target=\"_parent\"><img src=\"https://colab.research.google.com/assets/colab-badge.svg\" alt=\"Open In Colab\"/></a>"
      ]
    },
    {
      "cell_type": "markdown",
      "metadata": {
        "id": "IlSSW3Bq5UWW"
      },
      "source": [
        "**Download Data from Kaggle**"
      ]
    },
    {
      "cell_type": "code",
      "execution_count": 1,
      "metadata": {
        "colab": {
          "base_uri": "https://localhost:8080/"
        },
        "id": "7eKrP3hydlMA",
        "outputId": "065f13a8-53a6-476e-9797-d7dc9da67085"
      },
      "outputs": [
        {
          "output_type": "stream",
          "name": "stdout",
          "text": [
            "Mounted at /content/drive\n"
          ]
        }
      ],
      "source": [
        "from google.colab import drive\n",
        "drive.mount('/content/drive')"
      ]
    },
    {
      "cell_type": "code",
      "execution_count": 2,
      "metadata": {
        "colab": {
          "base_uri": "https://localhost:8080/"
        },
        "id": "teSnik4R3_6k",
        "outputId": "cd091b03-c8b8-4442-e1f5-da88b7e0adc4"
      },
      "outputs": [
        {
          "output_type": "stream",
          "name": "stdout",
          "text": [
            "Downloading disaster-tweets.zip to /content\n",
            "\r  0% 0.00/656k [00:00<?, ?B/s]\n",
            "\r100% 656k/656k [00:00<00:00, 21.7MB/s]\n",
            "Archive:  /content/disaster-tweets.zip\n",
            "  inflating: tweets.csv              \n"
          ]
        }
      ],
      "source": [
        "! pip install -q kaggle\n",
        "! mkdir ~/.kaggle\n",
        "! cp /content/drive/MyDrive/kaggle.json ~/.kaggle/\n",
        "! chmod 600 ~/.kaggle/kaggle.json\n",
        "!kaggle datasets download -d vstepanenko/disaster-tweets\n",
        "!unzip /content/disaster-tweets.zip"
      ]
    },
    {
      "cell_type": "code",
      "execution_count": 3,
      "metadata": {
        "id": "vzfczTz55FER"
      },
      "outputs": [],
      "source": [
        "#import libraries\n",
        "import re\n",
        "import pandas as pd\n",
        "import numpy as np\n",
        "from sklearn.metrics import log_loss\n",
        "from nltk.corpus import stopwords\n",
        "from nltk.stem import WordNetLemmatizer\n",
        "from sklearn.feature_extraction.text import CountVectorizer, TfidfVectorizer\n",
        "from sklearn.model_selection import train_test_split\n",
        "from sklearn.linear_model import LogisticRegression\n",
        "from sklearn.metrics import accuracy_score"
      ]
    },
    {
      "cell_type": "code",
      "execution_count": 4,
      "metadata": {
        "id": "HHUpZyp159oz"
      },
      "outputs": [],
      "source": [
        "data = pd.read_csv(\"/content/tweets.csv\")"
      ]
    },
    {
      "cell_type": "code",
      "execution_count": 5,
      "metadata": {
        "colab": {
          "base_uri": "https://localhost:8080/"
        },
        "id": "cEjTCP5VVLX7",
        "outputId": "5b94c431-67e3-4dda-df09-dcdb3a7f31a2"
      },
      "outputs": [
        {
          "output_type": "execute_result",
          "data": {
            "text/plain": [
              "(11370, 5)"
            ]
          },
          "metadata": {},
          "execution_count": 5
        }
      ],
      "source": [
        "data.shape"
      ]
    },
    {
      "cell_type": "code",
      "execution_count": 6,
      "metadata": {
        "colab": {
          "base_uri": "https://localhost:8080/",
          "height": 206
        },
        "id": "316ghyOr6jf9",
        "outputId": "a1473ddd-a614-4969-d6f7-f898d51f1cbb"
      },
      "outputs": [
        {
          "output_type": "execute_result",
          "data": {
            "text/html": [
              "\n",
              "  <div id=\"df-0eacc040-2148-4775-b401-f1daf5479e03\">\n",
              "    <div class=\"colab-df-container\">\n",
              "      <div>\n",
              "<style scoped>\n",
              "    .dataframe tbody tr th:only-of-type {\n",
              "        vertical-align: middle;\n",
              "    }\n",
              "\n",
              "    .dataframe tbody tr th {\n",
              "        vertical-align: top;\n",
              "    }\n",
              "\n",
              "    .dataframe thead th {\n",
              "        text-align: right;\n",
              "    }\n",
              "</style>\n",
              "<table border=\"1\" class=\"dataframe\">\n",
              "  <thead>\n",
              "    <tr style=\"text-align: right;\">\n",
              "      <th></th>\n",
              "      <th>id</th>\n",
              "      <th>keyword</th>\n",
              "      <th>location</th>\n",
              "      <th>text</th>\n",
              "      <th>target</th>\n",
              "    </tr>\n",
              "  </thead>\n",
              "  <tbody>\n",
              "    <tr>\n",
              "      <th>0</th>\n",
              "      <td>0</td>\n",
              "      <td>ablaze</td>\n",
              "      <td>NaN</td>\n",
              "      <td>Communal violence in Bhainsa, Telangana. \"Ston...</td>\n",
              "      <td>1</td>\n",
              "    </tr>\n",
              "    <tr>\n",
              "      <th>1</th>\n",
              "      <td>1</td>\n",
              "      <td>ablaze</td>\n",
              "      <td>NaN</td>\n",
              "      <td>Telangana: Section 144 has been imposed in Bha...</td>\n",
              "      <td>1</td>\n",
              "    </tr>\n",
              "    <tr>\n",
              "      <th>2</th>\n",
              "      <td>2</td>\n",
              "      <td>ablaze</td>\n",
              "      <td>New York City</td>\n",
              "      <td>Arsonist sets cars ablaze at dealership https:...</td>\n",
              "      <td>1</td>\n",
              "    </tr>\n",
              "    <tr>\n",
              "      <th>3</th>\n",
              "      <td>3</td>\n",
              "      <td>ablaze</td>\n",
              "      <td>Morgantown, WV</td>\n",
              "      <td>Arsonist sets cars ablaze at dealership https:...</td>\n",
              "      <td>1</td>\n",
              "    </tr>\n",
              "    <tr>\n",
              "      <th>4</th>\n",
              "      <td>4</td>\n",
              "      <td>ablaze</td>\n",
              "      <td>NaN</td>\n",
              "      <td>\"Lord Jesus, your love brings freedom and pard...</td>\n",
              "      <td>0</td>\n",
              "    </tr>\n",
              "  </tbody>\n",
              "</table>\n",
              "</div>\n",
              "      <button class=\"colab-df-convert\" onclick=\"convertToInteractive('df-0eacc040-2148-4775-b401-f1daf5479e03')\"\n",
              "              title=\"Convert this dataframe to an interactive table.\"\n",
              "              style=\"display:none;\">\n",
              "        \n",
              "  <svg xmlns=\"http://www.w3.org/2000/svg\" height=\"24px\"viewBox=\"0 0 24 24\"\n",
              "       width=\"24px\">\n",
              "    <path d=\"M0 0h24v24H0V0z\" fill=\"none\"/>\n",
              "    <path d=\"M18.56 5.44l.94 2.06.94-2.06 2.06-.94-2.06-.94-.94-2.06-.94 2.06-2.06.94zm-11 1L8.5 8.5l.94-2.06 2.06-.94-2.06-.94L8.5 2.5l-.94 2.06-2.06.94zm10 10l.94 2.06.94-2.06 2.06-.94-2.06-.94-.94-2.06-.94 2.06-2.06.94z\"/><path d=\"M17.41 7.96l-1.37-1.37c-.4-.4-.92-.59-1.43-.59-.52 0-1.04.2-1.43.59L10.3 9.45l-7.72 7.72c-.78.78-.78 2.05 0 2.83L4 21.41c.39.39.9.59 1.41.59.51 0 1.02-.2 1.41-.59l7.78-7.78 2.81-2.81c.8-.78.8-2.07 0-2.86zM5.41 20L4 18.59l7.72-7.72 1.47 1.35L5.41 20z\"/>\n",
              "  </svg>\n",
              "      </button>\n",
              "      \n",
              "  <style>\n",
              "    .colab-df-container {\n",
              "      display:flex;\n",
              "      flex-wrap:wrap;\n",
              "      gap: 12px;\n",
              "    }\n",
              "\n",
              "    .colab-df-convert {\n",
              "      background-color: #E8F0FE;\n",
              "      border: none;\n",
              "      border-radius: 50%;\n",
              "      cursor: pointer;\n",
              "      display: none;\n",
              "      fill: #1967D2;\n",
              "      height: 32px;\n",
              "      padding: 0 0 0 0;\n",
              "      width: 32px;\n",
              "    }\n",
              "\n",
              "    .colab-df-convert:hover {\n",
              "      background-color: #E2EBFA;\n",
              "      box-shadow: 0px 1px 2px rgba(60, 64, 67, 0.3), 0px 1px 3px 1px rgba(60, 64, 67, 0.15);\n",
              "      fill: #174EA6;\n",
              "    }\n",
              "\n",
              "    [theme=dark] .colab-df-convert {\n",
              "      background-color: #3B4455;\n",
              "      fill: #D2E3FC;\n",
              "    }\n",
              "\n",
              "    [theme=dark] .colab-df-convert:hover {\n",
              "      background-color: #434B5C;\n",
              "      box-shadow: 0px 1px 3px 1px rgba(0, 0, 0, 0.15);\n",
              "      filter: drop-shadow(0px 1px 2px rgba(0, 0, 0, 0.3));\n",
              "      fill: #FFFFFF;\n",
              "    }\n",
              "  </style>\n",
              "\n",
              "      <script>\n",
              "        const buttonEl =\n",
              "          document.querySelector('#df-0eacc040-2148-4775-b401-f1daf5479e03 button.colab-df-convert');\n",
              "        buttonEl.style.display =\n",
              "          google.colab.kernel.accessAllowed ? 'block' : 'none';\n",
              "\n",
              "        async function convertToInteractive(key) {\n",
              "          const element = document.querySelector('#df-0eacc040-2148-4775-b401-f1daf5479e03');\n",
              "          const dataTable =\n",
              "            await google.colab.kernel.invokeFunction('convertToInteractive',\n",
              "                                                     [key], {});\n",
              "          if (!dataTable) return;\n",
              "\n",
              "          const docLinkHtml = 'Like what you see? Visit the ' +\n",
              "            '<a target=\"_blank\" href=https://colab.research.google.com/notebooks/data_table.ipynb>data table notebook</a>'\n",
              "            + ' to learn more about interactive tables.';\n",
              "          element.innerHTML = '';\n",
              "          dataTable['output_type'] = 'display_data';\n",
              "          await google.colab.output.renderOutput(dataTable, element);\n",
              "          const docLink = document.createElement('div');\n",
              "          docLink.innerHTML = docLinkHtml;\n",
              "          element.appendChild(docLink);\n",
              "        }\n",
              "      </script>\n",
              "    </div>\n",
              "  </div>\n",
              "  "
            ],
            "text/plain": [
              "   id keyword  ...                                               text target\n",
              "0   0  ablaze  ...  Communal violence in Bhainsa, Telangana. \"Ston...      1\n",
              "1   1  ablaze  ...  Telangana: Section 144 has been imposed in Bha...      1\n",
              "2   2  ablaze  ...  Arsonist sets cars ablaze at dealership https:...      1\n",
              "3   3  ablaze  ...  Arsonist sets cars ablaze at dealership https:...      1\n",
              "4   4  ablaze  ...  \"Lord Jesus, your love brings freedom and pard...      0\n",
              "\n",
              "[5 rows x 5 columns]"
            ]
          },
          "metadata": {},
          "execution_count": 6
        }
      ],
      "source": [
        "data.head(5)"
      ]
    },
    {
      "cell_type": "markdown",
      "metadata": {
        "id": "t38bnmtWfgLf"
      },
      "source": [
        "# BOW & TFIDF"
      ]
    },
    {
      "cell_type": "markdown",
      "metadata": {
        "id": "B8VLzaJc6raM"
      },
      "source": [
        "**Preprocessing Data**"
      ]
    },
    {
      "cell_type": "code",
      "execution_count": 37,
      "metadata": {
        "id": "egw_1gdb6mlJ"
      },
      "outputs": [],
      "source": [
        "import nltk "
      ]
    },
    {
      "cell_type": "code",
      "execution_count": 38,
      "metadata": {
        "id": "ODVjtDaT6n5Z"
      },
      "outputs": [],
      "source": [
        "X = data['text']\n",
        "y = data['target']"
      ]
    },
    {
      "cell_type": "code",
      "execution_count": 39,
      "metadata": {
        "colab": {
          "base_uri": "https://localhost:8080/",
          "height": 35
        },
        "id": "oqD3f5VUDyAp",
        "outputId": "27708db3-1bc2-4efa-edd0-881b1c836488"
      },
      "outputs": [
        {
          "output_type": "execute_result",
          "data": {
            "application/vnd.google.colaboratory.intrinsic+json": {
              "type": "string"
            },
            "text/plain": [
              "'I swear that jam will set the world ablaze'"
            ]
          },
          "metadata": {},
          "execution_count": 39
        }
      ],
      "source": [
        "X[29]"
      ]
    },
    {
      "cell_type": "code",
      "execution_count": 40,
      "metadata": {
        "colab": {
          "base_uri": "https://localhost:8080/"
        },
        "id": "7D7_MqGYFYAA",
        "outputId": "63066eed-bc82-4f8c-a320-4cfb87e34dae"
      },
      "outputs": [
        {
          "output_type": "stream",
          "name": "stdout",
          "text": [
            "[nltk_data] Downloading package wordnet to /root/nltk_data...\n",
            "[nltk_data]   Unzipping corpora/wordnet.zip.\n",
            "[nltk_data] Downloading package stopwords to /root/nltk_data...\n",
            "[nltk_data]   Unzipping corpora/stopwords.zip.\n"
          ]
        },
        {
          "output_type": "execute_result",
          "data": {
            "text/plain": [
              "True"
            ]
          },
          "metadata": {},
          "execution_count": 40
        }
      ],
      "source": [
        "import nltk\n",
        "nltk.download('wordnet')\n",
        "nltk.download('stopwords')"
      ]
    },
    {
      "cell_type": "code",
      "execution_count": 41,
      "metadata": {
        "colab": {
          "base_uri": "https://localhost:8080/"
        },
        "id": "2oINLIWUCW4u",
        "outputId": "ec60ec00-7773-4af5-b2c9-3c06e10ecaaf"
      },
      "outputs": [
        {
          "output_type": "stream",
          "name": "stdout",
          "text": [
            "[nltk_data] Downloading package stopwords to /root/nltk_data...\n",
            "[nltk_data]   Package stopwords is already up-to-date!\n"
          ]
        }
      ],
      "source": [
        "import nltk\n",
        "nltk.download('stopwords')\n",
        "corpus = []\n",
        "for i in range(0,len(X)):\n",
        "  review = re.sub(\"[^a-zA-Z]\",\" \",X[i]) #substituting non alphabets with space\n",
        "  review = review.lower() #lowercase\n",
        "  review = review.split() #document split into words\n",
        "  review = [WordNetLemmatizer().lemmatize(word) for word in review if not word in stopwords.words('english')] #lemmetizing non stopwords\n",
        "  review = \" \".join(review) #forming the sentence back\n",
        "  corpus.append(review) #append into corpus"
      ]
    },
    {
      "cell_type": "code",
      "execution_count": 42,
      "metadata": {
        "colab": {
          "base_uri": "https://localhost:8080/"
        },
        "id": "gggeZfptiNL1",
        "outputId": "845a59c4-0443-41c4-c748-ff8d325d030d"
      },
      "outputs": [
        {
          "output_type": "execute_result",
          "data": {
            "text/plain": [
              "['telangana section imposed bhainsa january clash erupted two group january po',\n",
              " 'arsonist set car ablaze dealership http co goqvyjbpvi',\n",
              " 'arsonist set car ablaze dealership http co gl nucplb http co u ccbhowh',\n",
              " 'lord jesus love brings freedom pardon fill holy spirit set heart ablaze l http co vltznnpni',\n",
              " 'child chinese tweet would gone viral social medium would ablaze snl would made racist j']"
            ]
          },
          "metadata": {},
          "execution_count": 42
        }
      ],
      "source": [
        "corpus[1:6]"
      ]
    },
    {
      "cell_type": "code",
      "execution_count": 43,
      "metadata": {
        "id": "bPFzGV9IEDdj"
      },
      "outputs": [],
      "source": [
        "vectorizer = CountVectorizer(analyzer='word')\n",
        "X1 = vectorizer.fit_transform(corpus)"
      ]
    },
    {
      "cell_type": "code",
      "execution_count": 44,
      "metadata": {
        "colab": {
          "base_uri": "https://localhost:8080/"
        },
        "id": "ckHoQwoxWLeU",
        "outputId": "07b99e0e-c42a-4ca2-feb0-6100e29a7735"
      },
      "outputs": [
        {
          "output_type": "execute_result",
          "data": {
            "text/plain": [
              "(11370, 25517)"
            ]
          },
          "metadata": {},
          "execution_count": 44
        }
      ],
      "source": [
        "X1.shape"
      ]
    },
    {
      "cell_type": "code",
      "execution_count": 45,
      "metadata": {
        "id": "Sc4ZGcgPWOPh"
      },
      "outputs": [],
      "source": [
        "tfidf_df = TfidfVectorizer(analyzer='word')\n",
        "X2 = tfidf_df.fit_transform(corpus)"
      ]
    },
    {
      "cell_type": "code",
      "execution_count": 46,
      "metadata": {
        "id": "tx1if2MTHx-u"
      },
      "outputs": [],
      "source": [
        "X1 = X1.toarray()\n",
        "X2 = X2.toarray()"
      ]
    },
    {
      "cell_type": "markdown",
      "metadata": {
        "id": "KzXxOJAzgfNa"
      },
      "source": [
        "**Data Split**"
      ]
    },
    {
      "cell_type": "code",
      "execution_count": 47,
      "metadata": {
        "id": "dzSaIa230831"
      },
      "outputs": [],
      "source": [
        "X1_train, X1_test, y_train, y_test = train_test_split(X1, y, test_size=0.33, random_state=42)\n",
        "X2_train, X2_test, y_train, y_test = train_test_split(X2, y, test_size=0.33, random_state=42)"
      ]
    },
    {
      "cell_type": "markdown",
      "metadata": {
        "id": "PK_O7SSLgkJu"
      },
      "source": [
        "**Modelling**"
      ]
    },
    {
      "cell_type": "markdown",
      "metadata": {
        "id": "MgN2p__Kg-oc"
      },
      "source": [
        "You can use any classification algorithm like Decision Tree Classifier, XGB Classifier. I am taking Logistic Regression for example."
      ]
    },
    {
      "cell_type": "code",
      "execution_count": 48,
      "metadata": {
        "colab": {
          "base_uri": "https://localhost:8080/"
        },
        "id": "iZVjIzi2gjJZ",
        "outputId": "0190e0d2-ad38-4113-da29-2cd9f206a23d"
      },
      "outputs": [
        {
          "output_type": "stream",
          "name": "stdout",
          "text": [
            "The accuracy of Bag of Words model with Logsitic Regression: 0.8955502264854783\n"
          ]
        }
      ],
      "source": [
        "#Bag of Words Model\n",
        "lr = LogisticRegression()\n",
        "lr.fit(X1_train,y_train)\n",
        "print(\"The accuracy of Bag of Words model with Logsitic Regression:\",accuracy_score(y_test,lr.predict(X1_test)))"
      ]
    },
    {
      "cell_type": "code",
      "execution_count": 49,
      "metadata": {
        "colab": {
          "base_uri": "https://localhost:8080/"
        },
        "id": "CKQAfCZphuK2",
        "outputId": "108ac1e5-7822-45a1-c52c-e520e1966573"
      },
      "outputs": [
        {
          "output_type": "stream",
          "name": "stdout",
          "text": [
            "The accuracy of TF-IDF model with Logsitic Regression: 0.8635758060218491\n"
          ]
        }
      ],
      "source": [
        "#Bag of Words Model\n",
        "lr = LogisticRegression()\n",
        "lr.fit(X2_train,y_train)\n",
        "print(\"The accuracy of TF-IDF model with Logsitic Regression:\",accuracy_score(y_test,lr.predict(X2_test)))"
      ]
    },
    {
      "cell_type": "markdown",
      "metadata": {
        "id": "DsZfsrTBiXT1"
      },
      "source": [
        "# Word2Vec"
      ]
    },
    {
      "cell_type": "code",
      "execution_count": 7,
      "metadata": {
        "id": "cwP6ZFZ2ml1z"
      },
      "outputs": [],
      "source": [
        "from gensim.models import Word2Vec\n",
        "import nltk\n",
        "import re\n",
        "from nltk.corpus import stopwords"
      ]
    },
    {
      "cell_type": "markdown",
      "metadata": {
        "id": "tlZIyC3Fi7Yi"
      },
      "source": [
        "**Preprocessing Data**"
      ]
    },
    {
      "cell_type": "code",
      "execution_count": 22,
      "metadata": {
        "id": "eli-bAXji62z"
      },
      "outputs": [],
      "source": [
        "#Word2Vec inputs a corpus of documents splitted into consituent words\n",
        "corpus = []\n",
        "for i in range(0,len(X)):\n",
        "  tweet = re.sub(\"[^a-zA-Z]\",\" \",X[i])\n",
        "  tweet = tweet.lower()\n",
        "  tweet = tweet.split()\n",
        "  corpus.append(tweet)"
      ]
    },
    {
      "cell_type": "code",
      "execution_count": 23,
      "metadata": {
        "id": "BNfUadcenGHW"
      },
      "outputs": [],
      "source": [
        "model = Word2Vec(corpus,window = 3,min_count=2) #window size = 3, The minimum count of words to consider when training the model; words with occurrence less than this count will be ignored.\n"
      ]
    },
    {
      "cell_type": "code",
      "execution_count": 24,
      "metadata": {
        "id": "UHTGf5-lpWfH"
      },
      "outputs": [],
      "source": [
        "similar = model.wv.most_similar('disaster')"
      ]
    },
    {
      "cell_type": "code",
      "execution_count": 25,
      "metadata": {
        "colab": {
          "base_uri": "https://localhost:8080/"
        },
        "id": "4PROXTm7rrLV",
        "outputId": "a189ed91-292a-4482-f16c-879319cd8787"
      },
      "outputs": [
        {
          "output_type": "execute_result",
          "data": {
            "text/plain": [
              "[('china', 0.9997878074645996),\n",
              " ('road', 0.999761700630188),\n",
              " ('near', 0.999640166759491),\n",
              " ('north', 0.9995765089988708),\n",
              " ('pm', 0.9995118379592896),\n",
              " ('county', 0.9994516372680664),\n",
              " ('line', 0.9994335770606995),\n",
              " ('devastation', 0.999327540397644),\n",
              " ('wildfire', 0.9992800951004028),\n",
              " ('red', 0.9992609620094299)]"
            ]
          },
          "metadata": {},
          "execution_count": 25
        }
      ],
      "source": [
        "similar"
      ]
    },
    {
      "cell_type": "code",
      "execution_count": 26,
      "metadata": {
        "id": "tqn-hcQtrvy5"
      },
      "outputs": [],
      "source": [
        "similar = model.wv.most_similar('fire')"
      ]
    },
    {
      "cell_type": "code",
      "execution_count": 27,
      "metadata": {
        "colab": {
          "base_uri": "https://localhost:8080/"
        },
        "id": "ZkgJd-BFtUM1",
        "outputId": "0e45cca0-4615-4041-e099-2215443adc70"
      },
      "outputs": [
        {
          "output_type": "execute_result",
          "data": {
            "text/plain": [
              "[('middle', 0.9993351101875305),\n",
              " ('his', 0.9990131258964539),\n",
              " ('epicentre', 0.9989324808120728),\n",
              " ('triumphant', 0.9988600611686707),\n",
              " ('and', 0.9988275766372681),\n",
              " ('upheaval', 0.998699426651001),\n",
              " ('australia', 0.9986902475357056),\n",
              " ('effects', 0.9986681938171387),\n",
              " ('year', 0.998622477054596),\n",
              " ('past', 0.9986185431480408)]"
            ]
          },
          "metadata": {},
          "execution_count": 27
        }
      ],
      "source": [
        "similar"
      ]
    },
    {
      "cell_type": "code",
      "execution_count": 28,
      "metadata": {
        "colab": {
          "base_uri": "https://localhost:8080/"
        },
        "id": "_erqs7v6tVeS",
        "outputId": "a8ef0549-db4f-4a6f-f011-4c25af239497"
      },
      "outputs": [
        {
          "output_type": "execute_result",
          "data": {
            "text/plain": [
              "(100,)"
            ]
          },
          "metadata": {},
          "execution_count": 28
        }
      ],
      "source": [
        "model.wv.get_vector('disaster').shape"
      ]
    },
    {
      "cell_type": "code",
      "source": [
        "model.wv.vectors.shape"
      ],
      "metadata": {
        "colab": {
          "base_uri": "https://localhost:8080/"
        },
        "id": "p6USYYgTQH6A",
        "outputId": "d93fa283-8bf1-447d-dce7-1791e1ef59eb"
      },
      "execution_count": 36,
      "outputs": [
        {
          "output_type": "execute_result",
          "data": {
            "text/plain": [
              "(10404, 100)"
            ]
          },
          "metadata": {},
          "execution_count": 36
        }
      ]
    },
    {
      "cell_type": "code",
      "execution_count": 50,
      "metadata": {
        "id": "36-7isnJtyjJ"
      },
      "outputs": [],
      "source": [
        "from sklearn.manifold import TSNE\n",
        "import matplotlib.pyplot as plt\n",
        "%matplotlib inline"
      ]
    },
    {
      "cell_type": "markdown",
      "source": [
        "**Visualize Word2Vec Word Embeddings**"
      ],
      "metadata": {
        "id": "2hjXVzFkUqjJ"
      }
    },
    {
      "cell_type": "code",
      "execution_count": null,
      "metadata": {
        "id": "Z61MM9kGv4F6"
      },
      "outputs": [],
      "source": [
        "#visulize all the words in disaster tweets\n",
        "def tsne_plot(model):\n",
        "    \"Creates and TSNE model and plots it\"\n",
        "    labels = []\n",
        "    tokens = []\n",
        "\n",
        "    for word in model.wv.vocab:\n",
        "        tokens.append(model[word])\n",
        "        labels.append(word)\n",
        "    \n",
        "    tsne_model = TSNE(perplexity=40, n_components=2, init='pca', n_iter=250, random_state=23)\n",
        "    new_values = tsne_model.fit_transform(tokens)\n",
        "\n",
        "    x = []\n",
        "    y = []\n",
        "    for value in new_values:\n",
        "        x.append(value[0])\n",
        "        y.append(value[1])\n",
        "        \n",
        "    plt.figure(figsize=(16, 16)) \n",
        "    for i in range(len(x)):\n",
        "        plt.scatter(x[i],y[i])\n",
        "        plt.annotate(labels[i],\n",
        "                     xy=(x[i], y[i]),\n",
        "                     xytext=(5, 2),\n",
        "                     textcoords='offset points',\n",
        "                     ha='right',\n",
        "                     va='bottom')\n",
        "    plt.show()"
      ]
    },
    {
      "cell_type": "markdown",
      "source": [
        "**Load Pretrained Word2Vec Embeddings**"
      ],
      "metadata": {
        "id": "fk6jtdCVTCJz"
      }
    },
    {
      "cell_type": "code",
      "source": [
        "from gensim.models import KeyedVectors\n",
        "# Load vectors directly from the file\n",
        "model = KeyedVectors.load_word2vec_format('data/GoogleGoogleNews-vectors-negative300.bin', binary=True) #specify the downloaded embedding file\n",
        "# Access vectors for specific words with a keyed lookup:\n",
        "vector = model['easy']\n",
        "# see the shape of the vector (300,)\n",
        "vector.shape\n",
        "# Processing sentences is not as simple as with Spacy:\n",
        "vectors = [model[x] for x in \"This is some text I am processing with Spacy\".split(' ')]"
      ],
      "metadata": {
        "id": "pPooIQxjTIxt"
      },
      "execution_count": null,
      "outputs": []
    },
    {
      "cell_type": "markdown",
      "source": [
        "# GloVe"
      ],
      "metadata": {
        "id": "bptIydOyFb4l"
      }
    },
    {
      "cell_type": "code",
      "source": [
        "!pip install glove-python-binary\n",
        "from glove import Corpus, Glove\n",
        "#GloVe inputs a corpus of documents splitted into consituent words\n",
        "text_corpus = []\n",
        "for i in range(0,len(X)):\n",
        "  tweet = re.sub(\"[^a-zA-Z]\",\" \",X[i])\n",
        "  tweet = tweet.lower()\n",
        "  tweet = tweet.split()\n",
        "  text_corpus.append(tweet)\n",
        "corpus = Corpus() \n",
        "corpus.fit(text_corpus,window = 5)"
      ],
      "metadata": {
        "colab": {
          "base_uri": "https://localhost:8080/"
        },
        "id": "fMqFKz5GFfAH",
        "outputId": "4853c023-c683-4f3f-c507-8a60e67af38f"
      },
      "execution_count": 13,
      "outputs": [
        {
          "output_type": "stream",
          "name": "stdout",
          "text": [
            "Requirement already satisfied: glove-python-binary in /usr/local/lib/python3.7/dist-packages (0.2.0)\n",
            "Requirement already satisfied: numpy in /usr/local/lib/python3.7/dist-packages (from glove-python-binary) (1.19.5)\n",
            "Requirement already satisfied: scipy in /usr/local/lib/python3.7/dist-packages (from glove-python-binary) (1.4.1)\n"
          ]
        }
      ]
    },
    {
      "cell_type": "code",
      "source": [
        "glove = Glove(no_components=100, learning_rate=0.05) \n",
        "glove.fit(corpus.matrix, epochs=100, no_threads=4, verbose=True)\n",
        "glove.add_dictionary(corpus.dictionary)"
      ],
      "metadata": {
        "colab": {
          "base_uri": "https://localhost:8080/"
        },
        "id": "e3pZRQn1ANFO",
        "outputId": "e1575743-b8e0-4110-a29e-56d6d51124ee"
      },
      "execution_count": 14,
      "outputs": [
        {
          "output_type": "stream",
          "name": "stdout",
          "text": [
            "Performing 100 training epochs with 4 threads\n",
            "Epoch 0\n",
            "Epoch 1\n",
            "Epoch 2\n",
            "Epoch 3\n",
            "Epoch 4\n",
            "Epoch 5\n",
            "Epoch 6\n",
            "Epoch 7\n",
            "Epoch 8\n",
            "Epoch 9\n",
            "Epoch 10\n",
            "Epoch 11\n",
            "Epoch 12\n",
            "Epoch 13\n",
            "Epoch 14\n",
            "Epoch 15\n",
            "Epoch 16\n",
            "Epoch 17\n",
            "Epoch 18\n",
            "Epoch 19\n",
            "Epoch 20\n",
            "Epoch 21\n",
            "Epoch 22\n",
            "Epoch 23\n",
            "Epoch 24\n",
            "Epoch 25\n",
            "Epoch 26\n",
            "Epoch 27\n",
            "Epoch 28\n",
            "Epoch 29\n",
            "Epoch 30\n",
            "Epoch 31\n",
            "Epoch 32\n",
            "Epoch 33\n",
            "Epoch 34\n",
            "Epoch 35\n",
            "Epoch 36\n",
            "Epoch 37\n",
            "Epoch 38\n",
            "Epoch 39\n",
            "Epoch 40\n",
            "Epoch 41\n",
            "Epoch 42\n",
            "Epoch 43\n",
            "Epoch 44\n",
            "Epoch 45\n",
            "Epoch 46\n",
            "Epoch 47\n",
            "Epoch 48\n",
            "Epoch 49\n",
            "Epoch 50\n",
            "Epoch 51\n",
            "Epoch 52\n",
            "Epoch 53\n",
            "Epoch 54\n",
            "Epoch 55\n",
            "Epoch 56\n",
            "Epoch 57\n",
            "Epoch 58\n",
            "Epoch 59\n",
            "Epoch 60\n",
            "Epoch 61\n",
            "Epoch 62\n",
            "Epoch 63\n",
            "Epoch 64\n",
            "Epoch 65\n",
            "Epoch 66\n",
            "Epoch 67\n",
            "Epoch 68\n",
            "Epoch 69\n",
            "Epoch 70\n",
            "Epoch 71\n",
            "Epoch 72\n",
            "Epoch 73\n",
            "Epoch 74\n",
            "Epoch 75\n",
            "Epoch 76\n",
            "Epoch 77\n",
            "Epoch 78\n",
            "Epoch 79\n",
            "Epoch 80\n",
            "Epoch 81\n",
            "Epoch 82\n",
            "Epoch 83\n",
            "Epoch 84\n",
            "Epoch 85\n",
            "Epoch 86\n",
            "Epoch 87\n",
            "Epoch 88\n",
            "Epoch 89\n",
            "Epoch 90\n",
            "Epoch 91\n",
            "Epoch 92\n",
            "Epoch 93\n",
            "Epoch 94\n",
            "Epoch 95\n",
            "Epoch 96\n",
            "Epoch 97\n",
            "Epoch 98\n",
            "Epoch 99\n"
          ]
        }
      ]
    },
    {
      "cell_type": "code",
      "source": [
        "glove.most_similar(\"storm\",number=10)"
      ],
      "metadata": {
        "colab": {
          "base_uri": "https://localhost:8080/"
        },
        "id": "eN_20Sg4CHcW",
        "outputId": "6d41e8e1-8abd-4cc3-885c-d18ba7277f9b"
      },
      "execution_count": 16,
      "outputs": [
        {
          "output_type": "execute_result",
          "data": {
            "text/plain": [
              "[('dust', 0.9220579668543765),\n",
              " ('brendan', 0.904046738220378),\n",
              " ('violent', 0.8719569025522304),\n",
              " ('fecal', 0.8671525955282415),\n",
              " ('goddess', 0.8236152015268149),\n",
              " ('occasionally', 0.7480771946676805),\n",
              " ('monster', 0.6818300005559692),\n",
              " ('comin', 0.6613716746320002),\n",
              " ('system', 0.6500671375524384)]"
            ]
          },
          "metadata": {},
          "execution_count": 16
        }
      ]
    },
    {
      "cell_type": "code",
      "source": [
        "glove.word_vectors.shape"
      ],
      "metadata": {
        "colab": {
          "base_uri": "https://localhost:8080/"
        },
        "id": "RG7C6pvyCxrB",
        "outputId": "3eaf5954-f4e4-4b53-b456-a5ae8486248b"
      },
      "execution_count": 20,
      "outputs": [
        {
          "output_type": "execute_result",
          "data": {
            "text/plain": [
              "(27538, 100)"
            ]
          },
          "metadata": {},
          "execution_count": 20
        }
      ]
    },
    {
      "cell_type": "code",
      "source": [
        "Load Pretrained Glove Embeddings"
      ],
      "metadata": {
        "id": "-Zc64ZjxHLot"
      },
      "execution_count": null,
      "outputs": []
    },
    {
      "cell_type": "markdown",
      "source": [
        "\n",
        "**Load Pretrained Glove Embeddings**\n",
        "\n"
      ],
      "metadata": {
        "id": "wO2uHOn-Sf3S"
      }
    },
    {
      "cell_type": "code",
      "source": [
        "embeddings_dictionary = dict()\n",
        "\n",
        "glove_file = open('/content/glove.42B.300d.txt', encoding=\"utf8\") #give path to downloaded pre trained glove embeddings\n",
        "\n",
        "for line in glove_file:\n",
        "    records = line.split()\n",
        "    word = records[0]\n",
        "    vector_dimensions = asarray(records[1:], dtype='float32')\n",
        "    embeddings_dictionary[word] = vector_dimensions\n",
        "glove_file.close()"
      ],
      "metadata": {
        "id": "H1BVYLpLSiRc"
      },
      "execution_count": null,
      "outputs": []
    }
  ],
  "metadata": {
    "colab": {
      "collapsed_sections": [],
      "name": "A Guide on word embeddings in NLP .ipynb",
      "provenance": [],
      "authorship_tag": "ABX9TyO9JMUQ7JbFYD9imMRO3hXK",
      "include_colab_link": true
    },
    "kernelspec": {
      "display_name": "Python 3",
      "name": "python3"
    },
    "language_info": {
      "name": "python"
    }
  },
  "nbformat": 4,
  "nbformat_minor": 0
}